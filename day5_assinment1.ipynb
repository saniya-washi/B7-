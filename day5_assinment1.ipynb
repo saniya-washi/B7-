{
  "nbformat": 4,
  "nbformat_minor": 0,
  "metadata": {
    "colab": {
      "name": "day5_assinment1.ipynb",
      "provenance": [],
      "authorship_tag": "ABX9TyPELUJpxvBPbcr8+KOOaniW",
      "include_colab_link": true
    },
    "kernelspec": {
      "name": "python3",
      "display_name": "Python 3"
    }
  },
  "cells": [
    {
      "cell_type": "markdown",
      "metadata": {
        "id": "view-in-github",
        "colab_type": "text"
      },
      "source": [
        "<a href=\"https://colab.research.google.com/github/saniya-washi/B7-/blob/master/day5_assinment1.ipynb\" target=\"_parent\"><img src=\"https://colab.research.google.com/assets/colab-badge.svg\" alt=\"Open In Colab\"/></a>"
      ]
    },
    {
      "cell_type": "code",
      "metadata": {
        "id": "ny4OsuDzapcL",
        "colab_type": "code",
        "colab": {
          "base_uri": "https://localhost:8080/",
          "height": 68
        },
        "outputId": "b5e40124-e30b-4aa8-ef4d-bcd6fb663724"
      },
      "source": [
        "# initializing list \n",
        "test_list = [1, 5, 6, 4, 1, 2, 3, 5] \n",
        "sub_list = [1, 1, 5] \n",
        "  \n",
        "# printing original lists \n",
        "print (\"Original list : \" + str(test_list)) \n",
        "print (\"Original sub list : \" + str(sub_list)) \n",
        "  \n",
        "# using all() to  \n",
        "# check subset of list  \n",
        "flag = 0\n",
        "if(all(x in test_list for x in sub_list)): \n",
        "    flag = 1\n",
        "      \n",
        "# printing result \n",
        "if (flag) : \n",
        "    print (\"it's a match\") \n",
        "else : \n",
        "    print (\"it's gone\")"
      ],
      "execution_count": 1,
      "outputs": [
        {
          "output_type": "stream",
          "text": [
            "Original list : [1, 5, 6, 4, 1, 2, 3, 5]\n",
            "Original sub list : [1, 1, 5]\n",
            "it's a match\n"
          ],
          "name": "stdout"
        }
      ]
    }
  ]
}