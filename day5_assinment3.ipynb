{
  "nbformat": 4,
  "nbformat_minor": 0,
  "metadata": {
    "colab": {
      "name": "day5_assinment3.ipynb",
      "provenance": [],
      "authorship_tag": "ABX9TyOVzjxTfTyd4G9d173Ng1eZ",
      "include_colab_link": true
    },
    "kernelspec": {
      "name": "python3",
      "display_name": "Python 3"
    }
  },
  "cells": [
    {
      "cell_type": "markdown",
      "metadata": {
        "id": "view-in-github",
        "colab_type": "text"
      },
      "source": [
        "<a href=\"https://colab.research.google.com/github/saniya-washi/B7-/blob/master/day5_assinment3.ipynb\" target=\"_parent\"><img src=\"https://colab.research.google.com/assets/colab-badge.svg\" alt=\"Open In Colab\"/></a>"
      ]
    },
    {
      "cell_type": "code",
      "metadata": {
        "id": "CizdaPMuW7IE",
        "colab_type": "code",
        "colab": {
          "base_uri": "https://localhost:8080/",
          "height": 51
        },
        "outputId": "37278f32-1936-4a25-92f0-d6391c054f51"
      },
      "source": [
        "# capitalize() first letter of  \n",
        "# string. \n",
        "name = \"hey i am from bihar\"\n",
        "  \n",
        "print( name.capitalize () )  \n",
        "  \n",
        "# demonstration of individual words  \n",
        "# capitalization to generate camel case \n",
        "name1 = \"hey\"\n",
        "name2 =  \"i\"\n",
        "name3 =  \"am\"\n",
        "name4 =  \"from\"\n",
        "name5 =  \"bihar\"\n",
        "print(name1.capitalize() + name2.capitalize () \n",
        "                          + name3.capitalize ()\n",
        "                          + name4.capitalize ()\n",
        "                          + name5.capitalize () ) \n"
      ],
      "execution_count": 15,
      "outputs": [
        {
          "output_type": "stream",
          "text": [
            "Hey i am from bihar\n",
            "HeyIAmFromBihar\n"
          ],
          "name": "stdout"
        }
      ]
    }
  ]
}