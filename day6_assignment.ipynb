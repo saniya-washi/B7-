{
  "nbformat": 4,
  "nbformat_minor": 0,
  "metadata": {
    "colab": {
      "name": "day6_assignment.ipynb",
      "provenance": [],
      "authorship_tag": "ABX9TyMEOP31BHHvfQ2z2Q3KDd0O",
      "include_colab_link": true
    },
    "kernelspec": {
      "name": "python3",
      "display_name": "Python 3"
    }
  },
  "cells": [
    {
      "cell_type": "markdown",
      "metadata": {
        "id": "view-in-github",
        "colab_type": "text"
      },
      "source": [
        "<a href=\"https://colab.research.google.com/github/saniya-washi/B7-/blob/master/day6_assignment.ipynb\" target=\"_parent\"><img src=\"https://colab.research.google.com/assets/colab-badge.svg\" alt=\"Open In Colab\"/></a>"
      ]
    },
    {
      "cell_type": "code",
      "metadata": {
        "id": "GRAJzZO-fHC2",
        "colab_type": "code",
        "colab": {}
      },
      "source": [
        "DAY6_ASSIGNMENT_1"
      ],
      "execution_count": null,
      "outputs": []
    },
    {
      "cell_type": "code",
      "metadata": {
        "id": "EhuqNci9fZeq",
        "colab_type": "code",
        "colab": {
          "base_uri": "https://localhost:8080/",
          "height": 102
        },
        "outputId": "7500c019-88f0-430b-ef3a-ce329488dcdf"
      },
      "source": [
        "\n",
        "class Account:\n",
        "    \n",
        "    def __init__(self, owner, balance):\n",
        "        self.owner = owner\n",
        "        self.balance = balance\n",
        "    \n",
        "    def __str__(self):\n",
        "        return 'Account owner: {owner}\\nAccount balance: ${balance}'.format(owner=self.owner, balance=self.balance)\n",
        "        \n",
        "    def deposit(self, dp_money):\n",
        "        self.balance += dp_money\n",
        "        print('Deposit Accepted, your balance is {balance}'.format(balance=self.balance))\n",
        "    \n",
        "    def withdraw(self, wd_money):\n",
        "        if wd_money > self.balance:\n",
        "            print('Funds Unavailable!')\n",
        "        else:\n",
        "            self.balance -= wd_money\n",
        "            print('Withdrawal Accepted, your balance is {balance}'.format(balance=self.balance))\n",
        "            \n",
        "acct1 = Account('sham',100)\n",
        "print(acct1)\n",
        "\n",
        "acct1.deposit(50)\n",
        "acct1.withdraw(75)\n",
        "acct1.withdraw(500)"
      ],
      "execution_count": 2,
      "outputs": [
        {
          "output_type": "stream",
          "text": [
            "Account owner: sham\n",
            "Account balance: $100\n",
            "Deposit Accepted, your balance is 150\n",
            "Withdrawal Accepted, your balance is 75\n",
            "Funds Unavailable!\n"
          ],
          "name": "stdout"
        }
      ]
    },
    {
      "cell_type": "markdown",
      "metadata": {
        "id": "OeZ7ybzsf5zF",
        "colab_type": "text"
      },
      "source": [
        "***`**DAY6_ASSIGNMENT_2**`***"
      ]
    },
    {
      "cell_type": "code",
      "metadata": {
        "id": "p_FE5bZygZna",
        "colab_type": "code",
        "colab": {
          "base_uri": "https://localhost:8080/",
          "height": 51
        },
        "outputId": "cfa7e69c-60b4-4ce0-aeb0-033e5098c0a9"
      },
      "source": [
        " import math \n",
        "pi = math.pi \n",
        "  \n",
        "# Function to calculate Volume of Cone \n",
        "def volume(r, h): \n",
        "    return (1 / 3) * pi * r * r * h \n",
        "  \n",
        "# Function To Calculate Surface Area of Cone \n",
        "def surfacearea(r, s): \n",
        "    return pi * r * s + pi * r * r \n",
        "  \n",
        "# Driver Code \n",
        "radius = float(5) \n",
        "height = float(12) \n",
        "slat_height = float(13) \n",
        "print( \"Volume Of Cone : \", volume(radius, height) ) \n",
        "print( \"Surface Area Of Cone : \", surfacearea(radius, slat_height) ) "
      ],
      "execution_count": 4,
      "outputs": [
        {
          "output_type": "stream",
          "text": [
            "Volume Of Cone :  314.15926535897927\n",
            "Surface Area Of Cone :  282.7433388230814\n"
          ],
          "name": "stdout"
        }
      ]
    }
  ]
}