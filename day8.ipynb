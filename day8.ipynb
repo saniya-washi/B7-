{
  "nbformat": 4,
  "nbformat_minor": 0,
  "metadata": {
    "colab": {
      "name": "day8.ipynb",
      "provenance": [],
      "authorship_tag": "ABX9TyP12sfrLyeHJWeWrdAubgFv",
      "include_colab_link": true
    },
    "kernelspec": {
      "name": "python3",
      "display_name": "Python 3"
    }
  },
  "cells": [
    {
      "cell_type": "markdown",
      "metadata": {
        "id": "view-in-github",
        "colab_type": "text"
      },
      "source": [
        "<a href=\"https://colab.research.google.com/github/saniya-washi/B7-/blob/master/day8.ipynb\" target=\"_parent\"><img src=\"https://colab.research.google.com/assets/colab-badge.svg\" alt=\"Open In Colab\"/></a>"
      ]
    },
    {
      "cell_type": "markdown",
      "metadata": {
        "id": "z8yg1NoXVBPb",
        "colab_type": "text"
      },
      "source": [
        "day8_assignment_1\n"
      ]
    },
    {
      "cell_type": "code",
      "metadata": {
        "id": "V700xNIQVHZq",
        "colab_type": "code",
        "colab": {
          "base_uri": "https://localhost:8080/",
          "height": 85
        },
        "outputId": "3f95a532-4b09-4e2e-971e-1c8fc0b8773a"
      },
      "source": [
        "def hello_decorator(func): \n",
        "\tdef inner1(*args, **kwargs): \n",
        "\t\t\n",
        "\t\tprint(\"before Execution\") \n",
        "\t\t\n",
        "\t\t# getting the returned value \n",
        "\t\treturned_value = func(*args, **kwargs) \n",
        "\t\tprint(\"after Execution\") \n",
        "\t\t\n",
        "\t\t# returning the value to the original frame \n",
        "\t\treturn returned_value \n",
        "\t\t\n",
        "\treturn inner1 \n",
        "\n",
        "\n",
        "# adding decorator to the function \n",
        "@hello_decorator\n",
        "def sum_two_numbers(a, b): \n",
        "\tprint(\"Inside the function\") \n",
        "\treturn a + b \n",
        "\n",
        "a, b = 1, 2\n",
        "\n",
        "# getting the value through return of the function \n",
        "print(\"Sum =\", sum_two_numbers(a, b)) \n"
      ],
      "execution_count": 1,
      "outputs": [
        {
          "output_type": "stream",
          "text": [
            "before Execution\n",
            "Inside the function\n",
            "after Execution\n",
            "Sum = 3\n"
          ],
          "name": "stdout"
        }
      ]
    },
    {
      "cell_type": "markdown",
      "metadata": {
        "id": "SXCtIEQnVWwY",
        "colab_type": "text"
      },
      "source": [
        "day8_assignment_2"
      ]
    },
    {
      "cell_type": "code",
      "metadata": {
        "id": "K_0K1EMaVtuV",
        "colab_type": "code",
        "colab": {
          "base_uri": "https://localhost:8080/",
          "height": 34
        },
        "outputId": "8af720bf-7c74-48cb-9747-008991f32490"
      },
      "source": [
        "import sys\n",
        "file_name = sys.argv[1]\n",
        "text = []\n",
        "try:\n",
        "    fh = open(file_name, 'r')\n",
        "    text = fh.readlines()\n",
        "    fh.close()\n",
        "except IOError:\n",
        "    print('cannot open', file_name)\n",
        "\n",
        "if text:\n",
        "    print(text[100])"
      ],
      "execution_count": 2,
      "outputs": [
        {
          "output_type": "stream",
          "text": [
            "cannot open -f\n"
          ],
          "name": "stdout"
        }
      ]
    }
  ]
}