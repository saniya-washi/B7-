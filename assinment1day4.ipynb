{
  "nbformat": 4,
  "nbformat_minor": 0,
  "metadata": {
    "colab": {
      "name": "assinment1day4.ipynb",
      "provenance": []
    },
    "kernelspec": {
      "name": "python3",
      "display_name": "Python 3"
    }
  },
  "cells": [
    {
      "cell_type": "code",
      "metadata": {
        "id": "i_cj57jZzo79",
        "colab_type": "code",
        "colab": {
          "base_uri": "https://localhost:8080/",
          "height": 119
        },
        "outputId": "10c82742-e292-40ac-b92a-80abe5432072"
      },
      "source": [
        "\n",
        "lower= 1042000\n",
        "upper= 702648265\n",
        "\n",
        "for num in range(lower , upper+1):\n",
        "\n",
        "  order = len(str(num))\n",
        "  sum=0\n",
        "  temp=num\n",
        "  while temp > 0:\n",
        "        digit=temp%10\n",
        "        sum +=digit**order\n",
        "        temp //=10\n",
        "        \n",
        "        \n",
        "  if  num==sum:\n",
        "         print(num)\n"
      ],
      "execution_count": null,
      "outputs": [
        {
          "output_type": "stream",
          "text": [
            "1741725\n",
            "4210818\n",
            "9800817\n",
            "9926315\n",
            "24678050\n",
            "24678051\n"
          ],
          "name": "stdout"
        }
      ]
    }
  ]
}