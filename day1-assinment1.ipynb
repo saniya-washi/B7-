{
  "nbformat": 4,
  "nbformat_minor": 0,
  "metadata": {
    "colab": {
      "name": "Untitled0.ipynb",
      "provenance": []
    },
    "kernelspec": {
      "name": "python3",
      "display_name": "Python 3"
    }
  },
  "cells": [
    {
      "cell_type": "code",
      "metadata": {
        "id": "B3F3WyMDQQnd",
        "colab_type": "code",
        "colab": {
          "base_uri": "https://localhost:8080/",
          "height": 34
        },
        "outputId": "f598f63a-52a4-42c5-c9c4-6cb36b16c149"
      },
      "source": [
        "List = ['mathematics', 'chemistry', 1997, 2000 ]\n",
        "List.append(20544)\n",
        "print(List)\n"
      ],
      "execution_count": null,
      "outputs": [
        {
          "output_type": "stream",
          "text": [
            "['mathematics', 'chemistry', 1997, 2000, 20544]\n"
          ],
          "name": "stdout"
        }
      ]
    },
    {
      "cell_type": "code",
      "metadata": {
        "id": "035XZhWYXTKr",
        "colab_type": "code",
        "colab": {
          "base_uri": "https://localhost:8080/",
          "height": 34
        },
        "outputId": "e8fc5df0-5cca-43d7-f9dd-f6a1032170e4"
      },
      "source": [
        "List = ['mathematics', 'chemistry', 1997, 2000 ]\n",
        "List.insert(2,10087)\n",
        "print(List)"
      ],
      "execution_count": null,
      "outputs": [
        {
          "output_type": "stream",
          "text": [
            "['mathematics', 'chemistry', 10087, 1997, 2000]\n"
          ],
          "name": "stdout"
        }
      ]
    },
    {
      "cell_type": "code",
      "metadata": {
        "id": "NCNKb0paX9dq",
        "colab_type": "code",
        "colab": {
          "base_uri": "https://localhost:8080/",
          "height": 51
        },
        "outputId": "1f696891-4fc8-47b4-ce9b-23cfedfbeda4"
      },
      "source": [
        "List1 = [1, 2, 3]\n",
        "List2 = [2, 3, 4, 5]\n",
        "List1.extend(List2)\n",
        "print(List1)\n",
        "List2.extend(List1)\n",
        "print(List2)"
      ],
      "execution_count": null,
      "outputs": [
        {
          "output_type": "stream",
          "text": [
            "[1, 2, 3, 2, 3, 4, 5]\n",
            "[2, 3, 4, 5, 1, 2, 3, 2, 3, 4, 5]\n"
          ],
          "name": "stdout"
        }
      ]
    },
    {
      "cell_type": "code",
      "metadata": {
        "id": "JrTutRw5azjb",
        "colab_type": "code",
        "colab": {
          "base_uri": "https://localhost:8080/",
          "height": 34
        },
        "outputId": "c1101ccc-afb9-485b-9a09-42484525a7b1"
      },
      "source": [
        "List = [1, 2, 3, 4, 5] \n",
        "print(sum(List)) \n"
      ],
      "execution_count": null,
      "outputs": [
        {
          "output_type": "stream",
          "text": [
            "15\n"
          ],
          "name": "stdout"
        }
      ]
    },
    {
      "cell_type": "code",
      "metadata": {
        "id": "JpS2u1ZDg6Re",
        "colab_type": "code",
        "colab": {
          "base_uri": "https://localhost:8080/",
          "height": 34
        },
        "outputId": "b015b99c-02dc-48bd-ea3f-2cbc58a9d5d5"
      },
      "source": [
        "List = [1, 2, 3, 1, 2, 1, 2, 3, 2, 1] \n",
        "print(List.count(1)) \n",
        "\n"
      ],
      "execution_count": null,
      "outputs": [
        {
          "output_type": "stream",
          "text": [
            "4\n"
          ],
          "name": "stdout"
        }
      ]
    },
    {
      "cell_type": "markdown",
      "metadata": {
        "id": "gNw5hFH-hVe5",
        "colab_type": "text"
      },
      "source": [
        "#question 2"
      ]
    },
    {
      "cell_type": "code",
      "metadata": {
        "id": "qYAIVB0khhco",
        "colab_type": "code",
        "colab": {
          "base_uri": "https://localhost:8080/",
          "height": 68
        },
        "outputId": "4792f756-1416-4ea1-92e5-d22564b04a7e"
      },
      "source": [
        "# Creating a Dictionary \n",
        "# with Integer Keys \n",
        "Dict = {1: 'yash', 2: 'has', 3: 'books'} \n",
        "print(\"\\nDictionary with the use of Integer Keys: \") \n",
        "print(Dict)\n"
      ],
      "execution_count": 1,
      "outputs": [
        {
          "output_type": "stream",
          "text": [
            "\n",
            "Dictionary with the use of Integer Keys: \n",
            "{1: 'yash', 2: 'has', 3: 'books'}\n"
          ],
          "name": "stdout"
        }
      ]
    },
    {
      "cell_type": "code",
      "metadata": {
        "id": "oNSNKRBSbjTD",
        "colab_type": "code",
        "colab": {
          "base_uri": "https://localhost:8080/",
          "height": 68
        },
        "outputId": "ff5fd2f1-1bc0-4faf-8456-4957fe281492"
      },
      "source": [
        "# Creating a Dictionary \n",
        "# with Mixed keys \n",
        "Dict = {'Name': 'john', 1: [1, 2, 3, 4]} \n",
        "print(\"\\nDictionary with the use of Mixed Keys: \") \n",
        "print(Dict) \n"
      ],
      "execution_count": 2,
      "outputs": [
        {
          "output_type": "stream",
          "text": [
            "\n",
            "Dictionary with the use of Mixed Keys: \n",
            "{'Name': 'john', 1: [1, 2, 3, 4]}\n"
          ],
          "name": "stdout"
        }
      ]
    },
    {
      "cell_type": "code",
      "metadata": {
        "id": "k4GBQw6Nb5Od",
        "colab_type": "code",
        "colab": {
          "base_uri": "https://localhost:8080/",
          "height": 51
        },
        "outputId": "52a4dd17-d71d-452c-c9a7-008427c6b3ac"
      },
      "source": [
        "# Creating an empty Dictionary \n",
        "Dict = {} \n",
        "print(\"Empty Dictionary: \") \n",
        "print(Dict) \n",
        "\n"
      ],
      "execution_count": 4,
      "outputs": [
        {
          "output_type": "stream",
          "text": [
            "Empty Dictionary: \n",
            "{}\n"
          ],
          "name": "stdout"
        }
      ]
    },
    {
      "cell_type": "code",
      "metadata": {
        "id": "JoIm8ucdcYPY",
        "colab_type": "code",
        "colab": {
          "base_uri": "https://localhost:8080/",
          "height": 68
        },
        "outputId": "26886913-f152-4692-f4b1-136f7d4b4458"
      },
      "source": [
        "# Creating a Dictionary \n",
        "#  each item as a Pair \n",
        "Dict = dict([(1, 'rain'), (2, 'bow')]) \n",
        "print(\"\\nDictionary with each item as a pair: \") \n",
        "print(Dict) \n"
      ],
      "execution_count": 13,
      "outputs": [
        {
          "output_type": "stream",
          "text": [
            "\n",
            "Dictionary with each item as a pair: \n",
            "{1: 'rain', 2: 'bow'}\n"
          ],
          "name": "stdout"
        }
      ]
    },
    {
      "cell_type": "code",
      "metadata": {
        "id": "sUiCnhilcUiS",
        "colab_type": "code",
        "colab": {
          "base_uri": "https://localhost:8080/",
          "height": 68
        },
        "outputId": "b5553ebd-2d57-4f0b-c9f0-f11ec57a7a51"
      },
      "source": [
        "# Creating a Dictionary \n",
        "# with dict() method \n",
        "Dict = dict({1: 'meera', 2: 'loves', 3:'krish'}) \n",
        "print(\"\\nDictionary with the use of dict(): \") \n",
        "print(Dict) \n"
      ],
      "execution_count": 7,
      "outputs": [
        {
          "output_type": "stream",
          "text": [
            "\n",
            "Dictionary with the use of dict(): \n",
            "{1: 'meera', 2: 'loves', 3: 'krish'}\n"
          ],
          "name": "stdout"
        }
      ]
    },
    {
      "cell_type": "markdown",
      "metadata": {
        "id": "BFMW49N8d5Gg",
        "colab_type": "text"
      },
      "source": [
        "**question** ***3***"
      ]
    },
    {
      "cell_type": "markdown",
      "metadata": {
        "id": "vZ15qsu6hkC3",
        "colab_type": "text"
      },
      "source": [
        ""
      ]
    },
    {
      "cell_type": "code",
      "metadata": {
        "id": "GOHLzwHbhlTb",
        "colab_type": "code",
        "colab": {
          "base_uri": "https://localhost:8080/",
          "height": 51
        },
        "outputId": "959d657f-39cb-4644-96be-768d8183d3f2"
      },
      "source": [
        "# Python program to \n",
        "# demonstrate sets \n",
        "\n",
        "# Same as {\"a\", \"b\", \"c\"} \n",
        "myset = set([\"a\", \"b\", \"c\"]) \n",
        "print(myset) \n",
        "\n",
        "# Adding element to the set \n",
        "myset.add(\"d\") \n",
        "print(myset) \n"
      ],
      "execution_count": 14,
      "outputs": [
        {
          "output_type": "stream",
          "text": [
            "{'a', 'c', 'b'}\n",
            "{'a', 'c', 'b', 'd'}\n"
          ],
          "name": "stdout"
        }
      ]
    },
    {
      "cell_type": "code",
      "metadata": {
        "id": "W1BUY0byeRGH",
        "colab_type": "code",
        "colab": {
          "base_uri": "https://localhost:8080/",
          "height": 51
        },
        "outputId": "460d840a-2798-4a53-9d61-ecb78a95eab1"
      },
      "source": [
        "normal_set = set([\"a\", \"b\",\"c\"]) \n",
        "\n",
        "print(\"Normal Set\") \n",
        "print(normal_set) "
      ],
      "execution_count": 16,
      "outputs": [
        {
          "output_type": "stream",
          "text": [
            "Normal Set\n",
            "{'a', 'c', 'b'}\n"
          ],
          "name": "stdout"
        }
      ]
    },
    {
      "cell_type": "code",
      "metadata": {
        "id": "JQL-xST6eyRS",
        "colab_type": "code",
        "colab": {
          "base_uri": "https://localhost:8080/",
          "height": 68
        },
        "outputId": "7070e34a-bc9f-47cd-9378-04d1b442c9e2"
      },
      "source": [
        " frozen_set = frozenset([\"e\", \"f\", \"g\"]) \n",
        "\n",
        "print(\"\\nFrozen Set\") \n",
        "print(frozen_set) "
      ],
      "execution_count": 17,
      "outputs": [
        {
          "output_type": "stream",
          "text": [
            "\n",
            "Frozen Set\n",
            "frozenset({'f', 'g', 'e'})\n"
          ],
          "name": "stdout"
        }
      ]
    },
    {
      "cell_type": "code",
      "metadata": {
        "id": "cO2ZyudueaZc",
        "colab_type": "code",
        "colab": {
          "base_uri": "https://localhost:8080/",
          "height": 68
        },
        "outputId": "46d23058-0433-46b4-9664-babd97d8e41a"
      },
      "source": [
        "# A Python program to \n",
        "# demonstrate adding elements \n",
        "# in a set \n",
        "\n",
        "# Creating a Set \n",
        "people = {\"Jay\", \"Idrish\", \"Archi\"} \n",
        "\n",
        "print(\"People:\", end = \" \") \n",
        "print(people) \n",
        "\n",
        "# This will add Daxit \n",
        "# in the set \n",
        "people.add(\"Daxit\") \n",
        "\n",
        "# Adding elements to the \n",
        "# set using iterator \n",
        "for i in range(1, 6): \n",
        "\tpeople.add(i) \n",
        "\n",
        "print(\"\\nSet after adding element:\", end = \" \") \n",
        "print(people) \n"
      ],
      "execution_count": 18,
      "outputs": [
        {
          "output_type": "stream",
          "text": [
            "People: {'Archi', 'Idrish', 'Jay'}\n",
            "\n",
            "Set after adding element: {1, 'Jay', 2, 3, 4, 5, 'Daxit', 'Archi', 'Idrish'}\n"
          ],
          "name": "stdout"
        }
      ]
    },
    {
      "cell_type": "code",
      "metadata": {
        "id": "ORmHTDD5ggqg",
        "colab_type": "code",
        "colab": {
          "base_uri": "https://localhost:8080/",
          "height": 102
        },
        "outputId": "713829f1-a26f-4c49-be2d-ac6a54e6f9e1"
      },
      "source": [
        "# Python program to \n",
        "# demonstrate difference \n",
        "# of two sets \n",
        "\n",
        "set1 = set() \n",
        "set2 = set() \n",
        "\n",
        "for i in range(5): \n",
        "\tset1.add(i) \n",
        "\n",
        "for i in range(3,9): \n",
        "\tset2.add(i) \n",
        "\n",
        "# Difference of two sets \n",
        "# using difference() function \n",
        "set3 = set1.difference(set2) \n",
        "\n",
        "print(\" Difference of two sets using difference() function\") \n",
        "print(set3) \n",
        "\n",
        "# Difference of two sets \n",
        "# using '-' operator \n",
        "set3 = set1 - set2 \n",
        "\n",
        "print(\"\\nDifference of two sets using '-' operator\") \n",
        "print(set3) \n"
      ],
      "execution_count": 21,
      "outputs": [
        {
          "output_type": "stream",
          "text": [
            " Difference of two sets using difference() function\n",
            "{0, 1, 2}\n",
            "\n",
            "Difference of two sets using '-' operator\n",
            "{0, 1, 2}\n"
          ],
          "name": "stdout"
        }
      ]
    },
    {
      "cell_type": "markdown",
      "metadata": {
        "id": "N_L7CogNgzAz",
        "colab_type": "text"
      },
      "source": [
        "**question** **4**"
      ]
    },
    {
      "cell_type": "code",
      "metadata": {
        "id": "jWrKYdpYg4VW",
        "colab_type": "code",
        "colab": {
          "base_uri": "https://localhost:8080/",
          "height": 34
        },
        "outputId": "b379a5de-3142-4224-d55b-2f27b82a47f1"
      },
      "source": [
        "#creating an empty tuple\n",
        "tuple1 = ()\n",
        "print(tuple1)"
      ],
      "execution_count": 22,
      "outputs": [
        {
          "output_type": "stream",
          "text": [
            "()\n"
          ],
          "name": "stdout"
        }
      ]
    },
    {
      "cell_type": "code",
      "metadata": {
        "id": "cffghp5QiND8",
        "colab_type": "code",
        "colab": {
          "base_uri": "https://localhost:8080/",
          "height": 34
        },
        "outputId": "c5a0922c-ac77-488f-aa06-837b0869b7cd"
      },
      "source": [
        "#Creating a tuple with a single element\n",
        "tuple1 = (20.34,)\n",
        "print(tuple1)"
      ],
      "execution_count": 23,
      "outputs": [
        {
          "output_type": "stream",
          "text": [
            "(20.34,)\n"
          ],
          "name": "stdout"
        }
      ]
    },
    {
      "cell_type": "code",
      "metadata": {
        "id": "9vCAVJcciT-O",
        "colab_type": "code",
        "colab": {
          "base_uri": "https://localhost:8080/",
          "height": 34
        },
        "outputId": "80ac18a6-f3f2-474b-be0c-e80fb98c90a3"
      },
      "source": [
        "#Creating a tuple with multiple elements\n",
        "tuple1 = 20.34, 2, \"Python\"\n",
        "print(tuple1)"
      ],
      "execution_count": 24,
      "outputs": [
        {
          "output_type": "stream",
          "text": [
            "(20.34, 2, 'Python')\n"
          ],
          "name": "stdout"
        }
      ]
    },
    {
      "cell_type": "code",
      "metadata": {
        "id": "dd4aY73hijMS",
        "colab_type": "code",
        "colab": {
          "base_uri": "https://localhost:8080/",
          "height": 34
        },
        "outputId": "d6643e21-d93b-41f4-e132-848123da1e13"
      },
      "source": [
        "#creating tuple using tuple ()\n",
        "a = tuple ((38, 4.9, \"FACE Prep\"))\n",
        "print (a)\n",
        "\n"
      ],
      "execution_count": 25,
      "outputs": [
        {
          "output_type": "stream",
          "text": [
            "(38, 4.9, 'FACE Prep')\n"
          ],
          "name": "stdout"
        }
      ]
    },
    {
      "cell_type": "code",
      "metadata": {
        "id": "7gapzkUgi3xC",
        "colab_type": "code",
        "colab": {
          "base_uri": "https://localhost:8080/",
          "height": 34
        },
        "outputId": "2ddfa72b-e233-4f1c-f641-b8f45f95c3df"
      },
      "source": [
        "# creating a nested tuple with two individual tuples\n",
        "tuple1 = (10, 20)\n",
        "tuple2 = (\"Python\")\n",
        "tuple3 = (tuple1, tuple2)\n",
        "print(tuple3)"
      ],
      "execution_count": 26,
      "outputs": [
        {
          "output_type": "stream",
          "text": [
            "((10, 20), 'Python')\n"
          ],
          "name": "stdout"
        }
      ]
    },
    {
      "cell_type": "markdown",
      "metadata": {
        "id": "8xJ1hFCni_c0",
        "colab_type": "text"
      },
      "source": [
        " **question** **5**"
      ]
    },
    {
      "cell_type": "code",
      "metadata": {
        "id": "grXcFK0OjIkf",
        "colab_type": "code",
        "colab": {
          "base_uri": "https://localhost:8080/",
          "height": 51
        },
        "outputId": "2e6ed15b-562a-45cc-c9a6-39d63b7db9b5"
      },
      "source": [
        "  \n",
        "# Creating a String  \n",
        "# with single Quotes \n",
        "String1 = 'Welcome to the World'\n",
        "print(\"String with the use of Single Quotes: \") \n",
        "print(String1) \n",
        "  "
      ],
      "execution_count": 32,
      "outputs": [
        {
          "output_type": "stream",
          "text": [
            "String with the use of Single Quotes: \n",
            "Welcome to the World\n"
          ],
          "name": "stdout"
        }
      ]
    },
    {
      "cell_type": "code",
      "metadata": {
        "id": "CiUHBNDjkGZ8",
        "colab_type": "code",
        "colab": {
          "base_uri": "https://localhost:8080/",
          "height": 68
        },
        "outputId": "6b2b9b6a-d5f6-4840-c9d9-b94d11a50669"
      },
      "source": [
        "# Creating a String \n",
        "# with double Quotes \n",
        "String1 = \"I'm a programmer\"\n",
        "print(\"\\nString with the use of Double Quotes: \") \n",
        "print(String1) \n",
        "  "
      ],
      "execution_count": 34,
      "outputs": [
        {
          "output_type": "stream",
          "text": [
            "\n",
            "String with the use of Double Quotes: \n",
            "I'm a programmer\n"
          ],
          "name": "stdout"
        }
      ]
    },
    {
      "cell_type": "code",
      "metadata": {
        "id": "4_BaY1XukMkj",
        "colab_type": "code",
        "colab": {
          "base_uri": "https://localhost:8080/",
          "height": 68
        },
        "outputId": "adaf8407-60b8-4918-bb3d-9000d6e52655"
      },
      "source": [
        "# Creating a String \n",
        "# with triple Quotes \n",
        "String1 = '''I'm a lovingperson and I live in a world of \"love\"'''\n",
        "print(\"\\nString with the use of Triple Quotes: \") \n",
        "print(String1) \n",
        "  "
      ],
      "execution_count": 35,
      "outputs": [
        {
          "output_type": "stream",
          "text": [
            "\n",
            "String with the use of Triple Quotes: \n",
            "I'm a lovingperson and I live in a world of \"love\"\n"
          ],
          "name": "stdout"
        }
      ]
    },
    {
      "cell_type": "code",
      "metadata": {
        "id": "YRJB8am3keBM",
        "colab_type": "code",
        "colab": {
          "base_uri": "https://localhost:8080/",
          "height": 102
        },
        "outputId": "00ad1d5d-3bb9-455b-b0db-2c8efbe684de"
      },
      "source": [
        "# Creating String with triple \n",
        "# Quotes allows multiple lines \n",
        "String1 = '''oxygen \n",
        "\t\t\tFor \n",
        "\t\t\tLife'''\n",
        "print(\"\\nCreating a multiline String: \") \n",
        "print(String1) \n"
      ],
      "execution_count": 36,
      "outputs": [
        {
          "output_type": "stream",
          "text": [
            "\n",
            "Creating a multiline String: \n",
            "oxygen \n",
            "\t\t\tFor \n",
            "\t\t\tLife\n"
          ],
          "name": "stdout"
        }
      ]
    },
    {
      "cell_type": "code",
      "metadata": {
        "id": "edolCkBxkvnS",
        "colab_type": "code",
        "colab": {
          "base_uri": "https://localhost:8080/",
          "height": 153
        },
        "outputId": "e831d7ab-6d5e-48f2-b77d-5ebc6c942420"
      },
      "source": [
        "# Python Program to Access \n",
        "# characters of String \n",
        "\n",
        "String1 = \"programming\"\n",
        "print(\"Initial String: \") \n",
        "print(String1) \n",
        "\n",
        "# Printing First character \n",
        "print(\"\\nFirst character of String is: \") \n",
        "print(String1[0]) \n",
        "\n",
        "# Printing Last character \n",
        "print(\"\\nLast character of String is: \") \n",
        "print(String1[-1]) \n"
      ],
      "execution_count": 37,
      "outputs": [
        {
          "output_type": "stream",
          "text": [
            "Initial String: \n",
            "programming\n",
            "\n",
            "First character of String is: \n",
            "p\n",
            "\n",
            "Last character of String is: \n",
            "g\n"
          ],
          "name": "stdout"
        }
      ]
    }
  ]
}